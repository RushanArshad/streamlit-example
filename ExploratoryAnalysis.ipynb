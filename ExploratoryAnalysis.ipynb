{
  "nbformat": 4,
  "nbformat_minor": 0,
  "metadata": {
    "colab": {
      "provenance": [],
      "collapsed_sections": [],
      "authorship_tag": "ABX9TyNypTj33keCxhW2q/KM72CR",
      "include_colab_link": true
    },
    "kernelspec": {
      "name": "python3",
      "display_name": "Python 3"
    },
    "language_info": {
      "name": "python"
    }
  },
  "cells": [
    {
      "cell_type": "markdown",
      "metadata": {
        "id": "view-in-github",
        "colab_type": "text"
      },
      "source": [
        "<a href=\"https://colab.research.google.com/github/RushanArshad/streamlit-example/blob/master/ExploratoryAnalysis.ipynb\" target=\"_parent\"><img src=\"https://colab.research.google.com/assets/colab-badge.svg\" alt=\"Open In Colab\"/></a>"
      ]
    },
    {
      "cell_type": "code",
      "execution_count": 17,
      "metadata": {
        "id": "Lsn4_1_ZBjLE"
      },
      "outputs": [],
      "source": [
        "import pandas as pd\n",
        "import matplotlib.pyplot as plt"
      ]
    },
    {
      "cell_type": "code",
      "source": [
        "\n",
        "\n",
        "data_front = pd.read_excel('sample_data/Data Summary.xlsx', sheet_name = 'Data-Front End efficiency')\n",
        "data_till = pd.read_excel('sample_data/Data Summary.xlsx', sheet_name = 'Data-Till Activity Study')\n",
        "\n",
        "\n",
        "print(data_front)\n"
      ],
      "metadata": {
        "colab": {
          "base_uri": "https://localhost:8080/"
        },
        "id": "hi3LqIVPBqrd",
        "outputId": "cf452ccd-e7db-485a-e2ac-9e347951a703"
      },
      "execution_count": 18,
      "outputs": [
        {
          "output_type": "stream",
          "name": "stdout",
          "text": [
            "             Study   Location  Tags        Date     Day  Round  \\\n",
            "0     StGW0710ras3   Stamford   NaN  07/10/2019  Monday  10:47   \n",
            "1     StGW0710ras3   Stamford   NaN  07/10/2019  Monday  10:47   \n",
            "2     StGW0710ras3   Stamford   NaN  07/10/2019  Monday  10:47   \n",
            "3     StGW0710ras3   Stamford   NaN  07/10/2019  Monday  10:47   \n",
            "4     StGW0710ras3   Stamford   NaN  07/10/2019  Monday  10:52   \n",
            "...            ...        ...   ...         ...     ...    ...   \n",
            "3699  LeGW2710ras1  Leicester   NaN  27/10/2019  Sunday  16:11   \n",
            "3700           NaN        NaN   NaN         NaN     NaN    NaN   \n",
            "3701           NaN        NaN   NaN         NaN     NaN    NaN   \n",
            "3702           NaN        NaN   NaN         NaN     NaN    NaN   \n",
            "3703           NaN        NaN   NaN         NaN     NaN    NaN   \n",
            "\n",
            "                Role  El Code                                     Elements  \\\n",
            "0      Team Member 1   2534.0                       Serve Customer at Till   \n",
            "1      Team Member 2   5206.0  Serve Customer at Collections/Click&Collect   \n",
            "2     Customer Count      5.0                               Customer Count   \n",
            "3     Customer Count      5.0                               Customer Count   \n",
            "4      Team Member 1   5174.0            Deal with Store Visit RM / AM etc   \n",
            "...              ...      ...                                          ...   \n",
            "3699   Team Member 6   5189.0                       Return Product to Sale   \n",
            "3700             NaN      NaN                                          NaN   \n",
            "3701             NaN      NaN                                          NaN   \n",
            "3702             NaN      NaN                                          NaN   \n",
            "3703             NaN      NaN                                          NaN   \n",
            "\n",
            "         Rating   BMS  Qty              Area   Main Category        Category  \\\n",
            "0           100  5.00  1.0             Tills        Customer             NaN   \n",
            "1           100  5.00  1.0  Collections Desk        Customer             NaN   \n",
            "2     Not Rated  0.00  1.0  Collections Desk             NVA  Customer Count   \n",
            "3     Not Rated  0.00  1.0             Tills             NVA  Customer Count   \n",
            "4           100  5.00  1.0  Collections Desk  Task & Process             NaN   \n",
            "...         ...   ...  ...               ...             ...             ...   \n",
            "3699         75  3.75  1.0             Tills  Task & Process             NaN   \n",
            "3700        NaN   NaN  NaN               NaN             NaN             NaN   \n",
            "3701        NaN   NaN  NaN               NaN             NaN             NaN   \n",
            "3702        NaN   NaN  NaN               NaN             NaN             NaN   \n",
            "3703        NaN   NaN  NaN               NaN             NaN             NaN   \n",
            "\n",
            "     Notes Unnamed: 16  \n",
            "0      NaN         NaN  \n",
            "1      NaN         NaN  \n",
            "2      NaN         NaN  \n",
            "3      NaN    Timeslot  \n",
            "4      NaN     Morning  \n",
            "...    ...         ...  \n",
            "3699   NaN   Afternoon  \n",
            "3700   NaN   Afternoon  \n",
            "3701   NaN   Afternoon  \n",
            "3702   NaN   Afternoon  \n",
            "3703   NaN   Afternoon  \n",
            "\n",
            "[3704 rows x 17 columns]\n"
          ]
        }
      ]
    },
    {
      "cell_type": "code",
      "source": [
        "print(data_front.head())"
      ],
      "metadata": {
        "colab": {
          "base_uri": "https://localhost:8080/"
        },
        "id": "awa0iRuDF8tY",
        "outputId": "3affeb72-ae32-4f69-bbcf-3e8392f08bd6"
      },
      "execution_count": 15,
      "outputs": [
        {
          "output_type": "stream",
          "name": "stdout",
          "text": [
            "          Study  Location  Tags        Date     Day  Round            Role  \\\n",
            "0  StGW0710ras3  Stamford   NaN  07/10/2019  Monday  10:47   Team Member 1   \n",
            "1  StGW0710ras3  Stamford   NaN  07/10/2019  Monday  10:47   Team Member 2   \n",
            "2  StGW0710ras3  Stamford   NaN  07/10/2019  Monday  10:47  Customer Count   \n",
            "3  StGW0710ras3  Stamford   NaN  07/10/2019  Monday  10:47  Customer Count   \n",
            "4  StGW0710ras3  Stamford   NaN  07/10/2019  Monday  10:52   Team Member 1   \n",
            "\n",
            "   El Code                                     Elements     Rating  BMS  Qty  \\\n",
            "0   2534.0                       Serve Customer at Till        100  5.0  1.0   \n",
            "1   5206.0  Serve Customer at Collections/Click&Collect        100  5.0  1.0   \n",
            "2      5.0                               Customer Count  Not Rated  0.0  1.0   \n",
            "3      5.0                               Customer Count  Not Rated  0.0  1.0   \n",
            "4   5174.0            Deal with Store Visit RM / AM etc        100  5.0  1.0   \n",
            "\n",
            "               Area   Main Category        Category Notes Unnamed: 16  \n",
            "0             Tills        Customer             NaN   NaN         NaN  \n",
            "1  Collections Desk        Customer             NaN   NaN         NaN  \n",
            "2  Collections Desk             NVA  Customer Count   NaN         NaN  \n",
            "3             Tills             NVA  Customer Count   NaN    Timeslot  \n",
            "4  Collections Desk  Task & Process             NaN   NaN     Morning  \n"
          ]
        }
      ]
    },
    {
      "cell_type": "code",
      "source": [],
      "metadata": {
        "id": "4zpoDbnzImOl"
      },
      "execution_count": null,
      "outputs": []
    },
    {
      "cell_type": "code",
      "source": [
        "pd.set_option(\"display.max.columns\", None)\n",
        "pd.set_option(\"display.precision\", 2)"
      ],
      "metadata": {
        "id": "1gOwB7mMCTcf"
      },
      "execution_count": 20,
      "outputs": []
    },
    {
      "cell_type": "code",
      "source": [
        "print(data_front.head())"
      ],
      "metadata": {
        "colab": {
          "base_uri": "https://localhost:8080/"
        },
        "id": "ziqDs7i2Ioe_",
        "outputId": "af7e89bf-2269-48a3-d5c8-37a6c373d415"
      },
      "execution_count": 21,
      "outputs": [
        {
          "output_type": "stream",
          "name": "stdout",
          "text": [
            "          Study  Location  Tags        Date     Day  Round            Role  \\\n",
            "0  StGW0710ras3  Stamford   NaN  07/10/2019  Monday  10:47   Team Member 1   \n",
            "1  StGW0710ras3  Stamford   NaN  07/10/2019  Monday  10:47   Team Member 2   \n",
            "2  StGW0710ras3  Stamford   NaN  07/10/2019  Monday  10:47  Customer Count   \n",
            "3  StGW0710ras3  Stamford   NaN  07/10/2019  Monday  10:47  Customer Count   \n",
            "4  StGW0710ras3  Stamford   NaN  07/10/2019  Monday  10:52   Team Member 1   \n",
            "\n",
            "   El Code                                     Elements     Rating  BMS  Qty  \\\n",
            "0   2534.0                       Serve Customer at Till        100  5.0  1.0   \n",
            "1   5206.0  Serve Customer at Collections/Click&Collect        100  5.0  1.0   \n",
            "2      5.0                               Customer Count  Not Rated  0.0  1.0   \n",
            "3      5.0                               Customer Count  Not Rated  0.0  1.0   \n",
            "4   5174.0            Deal with Store Visit RM / AM etc        100  5.0  1.0   \n",
            "\n",
            "               Area   Main Category        Category Notes Unnamed: 16  \n",
            "0             Tills        Customer             NaN   NaN         NaN  \n",
            "1  Collections Desk        Customer             NaN   NaN         NaN  \n",
            "2  Collections Desk             NVA  Customer Count   NaN         NaN  \n",
            "3             Tills             NVA  Customer Count   NaN    Timeslot  \n",
            "4  Collections Desk  Task & Process             NaN   NaN     Morning  \n"
          ]
        }
      ]
    },
    {
      "cell_type": "code",
      "source": [
        "data_front.info()"
      ],
      "metadata": {
        "colab": {
          "base_uri": "https://localhost:8080/"
        },
        "id": "QGRe_ZTyIuau",
        "outputId": "2bb06a7e-6cc2-4d7c-977e-8bddd6bf6efd"
      },
      "execution_count": 22,
      "outputs": [
        {
          "output_type": "stream",
          "name": "stdout",
          "text": [
            "<class 'pandas.core.frame.DataFrame'>\n",
            "RangeIndex: 3704 entries, 0 to 3703\n",
            "Data columns (total 17 columns):\n",
            " #   Column         Non-Null Count  Dtype  \n",
            "---  ------         --------------  -----  \n",
            " 0   Study          3700 non-null   object \n",
            " 1   Location       3700 non-null   object \n",
            " 2   Tags           0 non-null      float64\n",
            " 3   Date           3700 non-null   object \n",
            " 4   Day            3700 non-null   object \n",
            " 5   Round          3700 non-null   object \n",
            " 6   Role           3700 non-null   object \n",
            " 7   El Code        3700 non-null   float64\n",
            " 8   Elements       3700 non-null   object \n",
            " 9   Rating         3700 non-null   object \n",
            " 10  BMS            3700 non-null   float64\n",
            " 11  Qty            3700 non-null   float64\n",
            " 12  Area           3700 non-null   object \n",
            " 13  Main Category  3700 non-null   object \n",
            " 14  Category       1067 non-null   object \n",
            " 15  Notes          274 non-null    object \n",
            " 16  Unnamed: 16    3684 non-null   object \n",
            "dtypes: float64(4), object(13)\n",
            "memory usage: 492.1+ KB\n"
          ]
        }
      ]
    },
    {
      "cell_type": "code",
      "source": [
        "time_spent = data_front.groupby([\"Location\"]).BMS.sum().reset_index()"
      ],
      "metadata": {
        "id": "TcdAsufRKXAd"
      },
      "execution_count": 25,
      "outputs": []
    },
    {
      "cell_type": "code",
      "source": [],
      "metadata": {
        "id": "jX7hFW4VMrXk"
      },
      "execution_count": null,
      "outputs": []
    },
    {
      "cell_type": "code",
      "source": [
        "print(time_spent)"
      ],
      "metadata": {
        "colab": {
          "base_uri": "https://localhost:8080/"
        },
        "id": "D1O2wEsuMMcD",
        "outputId": "465c4976-d666-435c-d5a2-c024f8322bc3"
      },
      "execution_count": 26,
      "outputs": [
        {
          "output_type": "stream",
          "name": "stdout",
          "text": [
            "        Location      BMS\n",
            "0      Ashbourne   730.50\n",
            "1      Bracknell  2893.00\n",
            "2     Chichester  2316.75\n",
            "3  Kidderminster   958.25\n",
            "4      Leicester  2477.50\n",
            "5       Stamford  1365.50\n"
          ]
        }
      ]
    },
    {
      "cell_type": "code",
      "source": [
        "time_spent.plot(x='Location', y='BMS', style='o')"
      ],
      "metadata": {
        "colab": {
          "base_uri": "https://localhost:8080/",
          "height": 300
        },
        "id": "WFdfmjCN7Vo0",
        "outputId": "66141aea-abd5-4422-d8e8-66d6bbe03b1b"
      },
      "execution_count": 86,
      "outputs": [
        {
          "output_type": "execute_result",
          "data": {
            "text/plain": [
              "<matplotlib.axes._subplots.AxesSubplot at 0x7f78efef7f50>"
            ]
          },
          "metadata": {},
          "execution_count": 86
        },
        {
          "output_type": "display_data",
          "data": {
            "text/plain": [
              "<Figure size 432x288 with 1 Axes>"
            ],
            "image/png": "[encoded data removed]"
          },
          "metadata": {
            "needs_background": "light"
          }
        }
      ]
    },
    {
      "cell_type": "code",
      "source": [
        "print(data_till.head())"
      ],
      "metadata": {
        "colab": {
          "base_uri": "https://localhost:8080/"
        },
        "id": "oHBgkMRHMl3x",
        "outputId": "c53a7750-6732-43c6-bed5-39759a5e5261"
      },
      "execution_count": 39,
      "outputs": [
        {
          "output_type": "stream",
          "name": "stdout",
          "text": [
            "           Study               Location   Tags        Date      Day      Time  \\\n",
            "0  BrJC1708dots1  Bristol Emerson Green  SAG D  17/08/2021  Tuesday  10:03:26   \n",
            "1  BrJC1708dots1  Bristol Emerson Green  SAG D  17/08/2021  Tuesday  10:03:33   \n",
            "2  BrJC1708dots1  Bristol Emerson Green  SAG D  17/08/2021  Tuesday  10:03:37   \n",
            "3  BrJC1708dots1  Bristol Emerson Green  SAG D  17/08/2021  Tuesday  10:03:40   \n",
            "4  BrJC1708dots1  Bristol Emerson Green  SAG D  17/08/2021  Tuesday  10:03:48   \n",
            "\n",
            "             Area                               Task  \\\n",
            "0  Main Till Bank  Till Transaction - Main Till bank   \n",
            "1  Main Till Bank  Till Transaction - Main Till bank   \n",
            "2  Main Till Bank  Till Transaction - Main Till bank   \n",
            "3  Main Till Bank  Till Transaction - Main Till bank   \n",
            "4  Main Till Bank  Till Transaction - Main Till bank   \n",
            "\n",
            "                                     Element              UOM     Rating  \\\n",
            "0                          Wait No Customers     Per Occasion  Not Rated   \n",
            "1  Call Up Next Customer & Start Transaction              NaN        100   \n",
            "2            Determine Customer Requirements              NaN        100   \n",
            "3    Request & Process Advantage Card (Chip)              NaN        100   \n",
            "4       Scan & Bag Item(s) - Number of Items  Number of Items        100   \n",
            "\n",
            "   Frequency  Obs _Time   BMS  BMs_per_UOM Main Category  Category Notes  \\\n",
            "0          1       0.12  0.00         0.00           NVA       NaN   NaN   \n",
            "1          1       0.06  0.06         0.06      Customer       NaN   NaN   \n",
            "2          1       0.06  0.06         0.06      Customer       NaN   NaN   \n",
            "3          1       0.13  0.13         0.13      Customer       NaN   NaN   \n",
            "4          2       0.23  0.23         0.12      Customer       NaN     2   \n",
            "\n",
            "  Timeslot  \n",
            "0  Morning  \n",
            "1  Morning  \n",
            "2  Morning  \n",
            "3  Morning  \n",
            "4  Morning  \n"
          ]
        }
      ]
    },
    {
      "cell_type": "code",
      "source": [
        "total_time_till = data_till[\"BMS\"]+data_till[\"Obs_Time\"]\n",
        "data_till[\"Total_Time\"] = total_time_till\n",
        "time_spent_till = data_till.groupby([\"Location\"]).Total_Time.sum().reset_index()\n",
        "print(time_spent_till)"
      ],
      "metadata": {
        "colab": {
          "base_uri": "https://localhost:8080/"
        },
        "id": "i7K9yhKdMsPB",
        "outputId": "a306fe0c-715c-4147-eb8e-eb6d087815cc"
      },
      "execution_count": 20,
      "outputs": [
        {
          "output_type": "stream",
          "name": "stdout",
          "text": [
            "                   Location  Total_Time\n",
            "0     Bristol Bradley Stoke   1725.2871\n",
            "1         Bristol Broadmead   1336.4860\n",
            "2  Bristol Clifton Queen Rd   1126.7461\n",
            "3   Bristol Cribbs Causeway    828.4547\n",
            "4     Bristol Emerson Green   1857.4489\n",
            "5          Bristol Henleaze    611.6570\n"
          ]
        }
      ]
    },
    {
      "cell_type": "code",
      "source": [
        "plt.scatter(time_spent_till['Location'], time_spent_till['Total_Time'])\n",
        "plt.gcf().set_size_inches((13, 13)) \n",
        "plt.show()"
      ],
      "metadata": {
        "colab": {
          "base_uri": "https://localhost:8080/",
          "height": 755
        },
        "id": "LBgyBBgs79pi",
        "outputId": "8b8d79f7-3483-430d-f0eb-ea43f2571c82"
      },
      "execution_count": 22,
      "outputs": [
        {
          "output_type": "display_data",
          "data": {
            "text/plain": [
              "<Figure size 936x936 with 1 Axes>"
            ],
            "image/png": "[encoded data removed]"
          },
          "metadata": {
            "needs_background": "light"
          }
        }
      ]
    },
    {
      "cell_type": "code",
      "source": [
        "time_spent_till_category = data_till.groupby([\"Main Category\"]).Total_Time.sum().reset_index()\n",
        "print(time_spent_till_category)"
      ],
      "metadata": {
        "colab": {
          "base_uri": "https://localhost:8080/"
        },
        "id": "5B1ft3w9rna_",
        "outputId": "84c7f733-b64c-4785-b1eb-883c65e151cb"
      },
      "execution_count": 23,
      "outputs": [
        {
          "output_type": "stream",
          "name": "stdout",
          "text": [
            "    Main Category  Total_Time\n",
            "0        Customer   3159.9237\n",
            "1             NVA   4053.0127\n",
            "2  Task & Process    273.1434\n"
          ]
        }
      ]
    },
    {
      "cell_type": "code",
      "source": [
        "plt.scatter(time_spent_till_category['Main Category'], time_spent_till_category['Total_Time'])\n",
        "plt.gcf().set_size_inches((13, 13)) \n",
        "plt.show()"
      ],
      "metadata": {
        "colab": {
          "base_uri": "https://localhost:8080/",
          "height": 755
        },
        "id": "F5innB0nr16s",
        "outputId": "9e2da5ae-accd-4041-c0aa-36427fd4ddfa"
      },
      "execution_count": 27,
      "outputs": [
        {
          "output_type": "display_data",
          "data": {
            "text/plain": [
              "<Figure size 936x936 with 1 Axes>"
            ],
            "image/png": "[encoded data removed]"
          },
          "metadata": {
            "needs_background": "light"
          }
        }
      ]
    },
    {
      "cell_type": "code",
      "source": [
        "time_spent_front = data_front.groupby([\"Location\"]).BMS.sum().reset_index()\n",
        "print(time_spent_front)"
      ],
      "metadata": {
        "colab": {
          "base_uri": "https://localhost:8080/"
        },
        "id": "Z-NqsgPTlJ8u",
        "outputId": "47921c7d-b8af-4582-d60c-80c2008fd51a"
      },
      "execution_count": 57,
      "outputs": [
        {
          "output_type": "stream",
          "name": "stdout",
          "text": [
            "        Location      BMS\n",
            "0      Ashbourne   730.50\n",
            "1      Bracknell  2893.00\n",
            "2     Chichester  2316.75\n",
            "3  Kidderminster   958.25\n",
            "4      Leicester  2477.50\n",
            "5       Stamford  1365.50\n"
          ]
        }
      ]
    },
    {
      "cell_type": "code",
      "source": [
        "time_spent_total_till = data_till[\"BMS\"].sum()\n",
        "print(time_spent_total_till)"
      ],
      "metadata": {
        "colab": {
          "base_uri": "https://localhost:8080/"
        },
        "id": "wKz2AF0WkeN5",
        "outputId": "2da441ce-8f7b-45b8-faf0-47d60f0226be"
      },
      "execution_count": 55,
      "outputs": [
        {
          "output_type": "stream",
          "name": "stdout",
          "text": [
            "1714.3569000000002\n"
          ]
        }
      ]
    },
    {
      "cell_type": "code",
      "source": [
        "time_spent_total_front = data_front[\"BMS\"].sum()\n",
        "print(time_spent_total_front)"
      ],
      "metadata": {
        "colab": {
          "base_uri": "https://localhost:8080/"
        },
        "id": "TA5CnTZek-ee",
        "outputId": "e450d358-2012-4cd7-ea4f-2d0d33720983"
      },
      "execution_count": 56,
      "outputs": [
        {
          "output_type": "stream",
          "name": "stdout",
          "text": [
            "10741.5\n"
          ]
        }
      ]
    },
    {
      "cell_type": "code",
      "source": [
        "ineffective_time = data_till.groupby([\"Main Category\",\"Location\"]).Obs_Time.sum().reset_index()\n",
        "print(ineffective_time)"
      ],
      "metadata": {
        "colab": {
          "base_uri": "https://localhost:8080/"
        },
        "id": "I2K4pfQjNmvp",
        "outputId": "e5614d3e-6cd2-4591-f50a-982c64d19be6"
      },
      "execution_count": 59,
      "outputs": [
        {
          "output_type": "stream",
          "name": "stdout",
          "text": [
            "     Main Category                  Location  Obs_Time\n",
            "0         Customer     Bristol Bradley Stoke    401.14\n",
            "1         Customer         Bristol Broadmead    275.42\n",
            "2         Customer  Bristol Clifton Queen Rd    221.27\n",
            "3         Customer   Bristol Cribbs Causeway    153.35\n",
            "4         Customer     Bristol Emerson Green    442.99\n",
            "5         Customer          Bristol Henleaze     87.54\n",
            "6              NVA     Bristol Bradley Stoke    891.35\n",
            "7              NVA         Bristol Broadmead    651.11\n",
            "8              NVA  Bristol Clifton Queen Rd    684.61\n",
            "9              NVA   Bristol Cribbs Causeway    515.27\n",
            "10             NVA     Bristol Emerson Green    973.51\n",
            "11             NVA          Bristol Henleaze    337.17\n",
            "12  Task & Process     Bristol Bradley Stoke     16.33\n",
            "13  Task & Process         Bristol Broadmead     67.35\n",
            "14  Task & Process   Bristol Cribbs Causeway      3.57\n",
            "15  Task & Process          Bristol Henleaze     49.75\n"
          ]
        }
      ]
    },
    {
      "cell_type": "code",
      "source": [
        "NVA_all_client =ineffective_time[ineffective_time['Main Category']=='NVA']\n",
        "print(NVA_all_client)"
      ],
      "metadata": {
        "colab": {
          "base_uri": "https://localhost:8080/"
        },
        "id": "eE4kZOq7oTOX",
        "outputId": "b0ddebdc-58fd-46a6-a80b-0fbc3a801c2f"
      },
      "execution_count": 70,
      "outputs": [
        {
          "output_type": "stream",
          "name": "stdout",
          "text": [
            "   Main Category                  Location  Obs_Time\n",
            "6            NVA     Bristol Bradley Stoke    891.35\n",
            "7            NVA         Bristol Broadmead    651.11\n",
            "8            NVA  Bristol Clifton Queen Rd    684.61\n",
            "9            NVA   Bristol Cribbs Causeway    515.27\n",
            "10           NVA     Bristol Emerson Green    973.51\n",
            "11           NVA          Bristol Henleaze    337.17\n"
          ]
        }
      ]
    },
    {
      "cell_type": "code",
      "source": [
        "ineffective_time_all_client = NVA_all_client.Obs_Time.sum()\n",
        "print(ineffective_time_all_client)"
      ],
      "metadata": {
        "colab": {
          "base_uri": "https://localhost:8080/"
        },
        "id": "OdohgrK4rbLH",
        "outputId": "49de8390-1fc7-4a79-e3ca-d7d9a87a9077"
      },
      "execution_count": 72,
      "outputs": [
        {
          "output_type": "stream",
          "name": "stdout",
          "text": [
            "4053.0127\n"
          ]
        }
      ]
    },
    {
      "cell_type": "code",
      "source": [
        "ineffective_time_front = data_front.groupby([\"Main Category\",\"Location\"]).BMS.sum().reset_index()\n",
        "print(ineffective_time_front)"
      ],
      "metadata": {
        "colab": {
          "base_uri": "https://localhost:8080/"
        },
        "id": "pwBMKlQMkBYU",
        "outputId": "798903b8-1c6f-4455-82fd-a83d4d2f96a1"
      },
      "execution_count": 58,
      "outputs": [
        {
          "output_type": "stream",
          "name": "stdout",
          "text": [
            "     Main Category       Location      BMS\n",
            "0         Customer      Ashbourne   500.00\n",
            "1         Customer      Bracknell  2410.00\n",
            "2         Customer     Chichester  1770.00\n",
            "3         Customer  Kidderminster   785.00\n",
            "4         Customer      Leicester  1655.00\n",
            "5         Customer       Stamford  1030.00\n",
            "6              NVA      Ashbourne     0.00\n",
            "7              NVA      Bracknell     0.00\n",
            "8              NVA     Chichester     0.00\n",
            "9              NVA  Kidderminster     0.00\n",
            "10             NVA      Leicester    10.00\n",
            "11             NVA       Stamford     0.00\n",
            "12  Task & Process      Ashbourne   230.50\n",
            "13  Task & Process      Bracknell   483.00\n",
            "14  Task & Process     Chichester   546.75\n",
            "15  Task & Process  Kidderminster   173.25\n",
            "16  Task & Process      Leicester   812.50\n",
            "17  Task & Process       Stamford   335.50\n"
          ]
        }
      ]
    },
    {
      "cell_type": "code",
      "source": [],
      "metadata": {
        "id": "IMH26Dgzlkc8"
      },
      "execution_count": null,
      "outputs": []
    },
    {
      "cell_type": "code",
      "source": [
        "task_frequency = data_till.groupby([\"Task\"]).Frequency.sum().reset_index()\n",
        "print(task_frequency)"
      ],
      "metadata": {
        "colab": {
          "base_uri": "https://localhost:8080/"
        },
        "id": "5FNcFNliQYan",
        "outputId": "1343bfab-7c12-41e9-d533-4c7811189a04"
      },
      "execution_count": 45,
      "outputs": [
        {
          "output_type": "stream",
          "name": "stdout",
          "text": [
            "                                                Task  Frequency\n",
            "0  Dot Com Instore pick 2 - Clifton Down, Henleaz...          6\n",
            "1  Self Check out - Cribbs Only - note customers ...        925\n",
            "2  Till Transaction - Healthcare Counter - Small ...       2220\n",
            "3                  Till Transaction - Main Till bank       9584\n"
          ]
        }
      ]
    },
    {
      "cell_type": "code",
      "source": [
        "task_BMS = data_till.groupby([\"Task\"]).BMS.sum().reset_index()\n",
        "print(task_BMS)"
      ],
      "metadata": {
        "colab": {
          "base_uri": "https://localhost:8080/"
        },
        "id": "Tdv_PJa6Rp74",
        "outputId": "8d02e69a-687f-48e9-a317-884facfd0891"
      },
      "execution_count": 46,
      "outputs": [
        {
          "output_type": "stream",
          "name": "stdout",
          "text": [
            "                                                Task      BMS\n",
            "0  Dot Com Instore pick 2 - Clifton Down, Henleaz...     1.28\n",
            "1  Self Check out - Cribbs Only - note customers ...   221.07\n",
            "2  Till Transaction - Healthcare Counter - Small ...   302.68\n",
            "3                  Till Transaction - Main Till bank  1189.33\n"
          ]
        }
      ]
    },
    {
      "cell_type": "code",
      "source": [
        "cols_to_use = task_BMS.columns.difference(task_frequency.columns)"
      ],
      "metadata": {
        "id": "ghjgT8jVSaug"
      },
      "execution_count": 47,
      "outputs": []
    },
    {
      "cell_type": "code",
      "source": [
        "dfNew = task_frequency.merge( task_BMS[cols_to_use], left_index=True, right_index=True, how='outer')"
      ],
      "metadata": {
        "id": "6TW5CL-PShhA"
      },
      "execution_count": 49,
      "outputs": []
    },
    {
      "cell_type": "code",
      "source": [
        "print(dfNew)"
      ],
      "metadata": {
        "colab": {
          "base_uri": "https://localhost:8080/"
        },
        "id": "I9w32IAGS456",
        "outputId": "67cb8838-ed0d-4cf6-c432-400924f2ce73"
      },
      "execution_count": 50,
      "outputs": [
        {
          "output_type": "stream",
          "name": "stdout",
          "text": [
            "                                                Task  Frequency      BMS\n",
            "0  Dot Com Instore pick 2 - Clifton Down, Henleaz...          6     1.28\n",
            "1  Self Check out - Cribbs Only - note customers ...        925   221.07\n",
            "2  Till Transaction - Healthcare Counter - Small ...       2220   302.68\n",
            "3                  Till Transaction - Main Till bank       9584  1189.33\n"
          ]
        }
      ]
    },
    {
      "cell_type": "code",
      "source": [
        "dfNew[\"Task Rate\"] = dfNew[\"Frequency\"]/dfNew[\"BMS\"]\n",
        "print(dfNew)"
      ],
      "metadata": {
        "colab": {
          "base_uri": "https://localhost:8080/"
        },
        "id": "L3hQCzcVTJnf",
        "outputId": "e7728072-4fad-48b2-f733-7141241b6e47"
      },
      "execution_count": 52,
      "outputs": [
        {
          "output_type": "stream",
          "name": "stdout",
          "text": [
            "                                                Task  Frequency      BMS  \\\n",
            "0  Dot Com Instore pick 2 - Clifton Down, Henleaz...          6     1.28   \n",
            "1  Self Check out - Cribbs Only - note customers ...        925   221.07   \n",
            "2  Till Transaction - Healthcare Counter - Small ...       2220   302.68   \n",
            "3                  Till Transaction - Main Till bank       9584  1189.33   \n",
            "\n",
            "   Task Rate  \n",
            "0       4.69  \n",
            "1       4.18  \n",
            "2       7.33  \n",
            "3       8.06  \n"
          ]
        }
      ]
    },
    {
      "cell_type": "code",
      "source": [
        "time_each_category =data_front.groupby([\"Location\",'Main Category']).BMS.sum().reset_index()\n",
        "print(time_each_category)"
      ],
      "metadata": {
        "colab": {
          "base_uri": "https://localhost:8080/"
        },
        "id": "mM2A-SDr4iLb",
        "outputId": "0acc45fb-ebd8-43fe-ba31-dc82d50968d3"
      },
      "execution_count": 10,
      "outputs": [
        {
          "output_type": "stream",
          "name": "stdout",
          "text": [
            "         Location   Main Category      BMS\n",
            "0       Ashbourne        Customer   500.00\n",
            "1       Ashbourne             NVA     0.00\n",
            "2       Ashbourne  Task & Process   230.50\n",
            "3       Bracknell        Customer  2410.00\n",
            "4       Bracknell             NVA     0.00\n",
            "5       Bracknell  Task & Process   483.00\n",
            "6      Chichester        Customer  1770.00\n",
            "7      Chichester             NVA     0.00\n",
            "8      Chichester  Task & Process   546.75\n",
            "9   Kidderminster        Customer   785.00\n",
            "10  Kidderminster             NVA     0.00\n",
            "11  Kidderminster  Task & Process   173.25\n",
            "12      Leicester        Customer  1655.00\n",
            "13      Leicester             NVA    10.00\n",
            "14      Leicester  Task & Process   812.50\n",
            "15       Stamford        Customer  1030.00\n",
            "16       Stamford             NVA     0.00\n",
            "17       Stamford  Task & Process   335.50\n"
          ]
        }
      ]
    },
    {
      "cell_type": "code",
      "source": [
        "cus_classify = data_front.groupby([\"Elements\",\"Main Category\"]).count()\n",
        "print(cus_classify)"
      ],
      "metadata": {
        "colab": {
          "base_uri": "https://localhost:8080/"
        },
        "id": "aDuMbGBJM-sp",
        "outputId": "e9bc7f88-b687-4d13-f811-974f6ba7f3cd"
      },
      "execution_count": 15,
      "outputs": [
        {
          "output_type": "stream",
          "name": "stdout",
          "text": [
            "                                                            Study  Location  \\\n",
            "Elements                                    Main Category                     \n",
            "Admin at Till                               Task & Process    318       318   \n",
            "Assist Customer in Store                    Customer          115       115   \n",
            "Break                                       NVA               137       137   \n",
            "COSHH - deal with spillage                  Task & Process      2         2   \n",
            "Customer Count                              NVA              1067      1067   \n",
            "Deal with Store Visit RM / AM etc           Task & Process      1         1   \n",
            "Facing Up - away from till area             Task & Process     32        32   \n",
            "Get Product for Customer                    Customer           44        44   \n",
            "Not Working                                 NVA                11        11   \n",
            "Personal Needs                              NVA                14        14   \n",
            "Product Carry & Collect from car            Customer           13        13   \n",
            "Replenish Brochures/Catalogues              Task & Process      2         2   \n",
            "Return Product to Sale                      Task & Process     84        84   \n",
            "Returns/ Exchanges/ Repairs at Till         Customer           33        33   \n",
            "Rug Doctor Rental                           Customer            5         5   \n",
            "Sell to Customer from Display               Customer            2         2   \n",
            "Serve Customer at Collections/Click&Collect Customer          175       175   \n",
            "Serve Customer at Till                      Customer         1234      1234   \n",
            "Serve Customer with DPD parcel              Customer            9         9   \n",
            "System Delay                                NVA                 2         2   \n",
            "Talk Not Work                               NVA                16        16   \n",
            "Talk Work NOTE who and topic                Task & Process     41        41   \n",
            "Team Briefing 121                           Task & Process      6         6   \n",
            "Telephone                                   Task & Process     18        18   \n",
            "Tidy till area                              Task & Process     51        51   \n",
            "Training                                    Task & Process      4         4   \n",
            "Wait No Customer                            NVA               264       264   \n",
            "\n",
            "                                                            Tags  Date   Day  \\\n",
            "Elements                                    Main Category                      \n",
            "Admin at Till                               Task & Process     0   318   318   \n",
            "Assist Customer in Store                    Customer           0   115   115   \n",
            "Break                                       NVA                0   137   137   \n",
            "COSHH - deal with spillage                  Task & Process     0     2     2   \n",
            "Customer Count                              NVA                0  1067  1067   \n",
            "Deal with Store Visit RM / AM etc           Task & Process     0     1     1   \n",
            "Facing Up - away from till area             Task & Process     0    32    32   \n",
            "Get Product for Customer                    Customer           0    44    44   \n",
            "Not Working                                 NVA                0    11    11   \n",
            "Personal Needs                              NVA                0    14    14   \n",
            "Product Carry & Collect from car            Customer           0    13    13   \n",
            "Replenish Brochures/Catalogues              Task & Process     0     2     2   \n",
            "Return Product to Sale                      Task & Process     0    84    84   \n",
            "Returns/ Exchanges/ Repairs at Till         Customer           0    33    33   \n",
            "Rug Doctor Rental                           Customer           0     5     5   \n",
            "Sell to Customer from Display               Customer           0     2     2   \n",
            "Serve Customer at Collections/Click&Collect Customer           0   175   175   \n",
            "Serve Customer at Till                      Customer           0  1234  1234   \n",
            "Serve Customer with DPD parcel              Customer           0     9     9   \n",
            "System Delay                                NVA                0     2     2   \n",
            "Talk Not Work                               NVA                0    16    16   \n",
            "Talk Work NOTE who and topic                Task & Process     0    41    41   \n",
            "Team Briefing 121                           Task & Process     0     6     6   \n",
            "Telephone                                   Task & Process     0    18    18   \n",
            "Tidy till area                              Task & Process     0    51    51   \n",
            "Training                                    Task & Process     0     4     4   \n",
            "Wait No Customer                            NVA                0   264   264   \n",
            "\n",
            "                                                            Round  Role  \\\n",
            "Elements                                    Main Category                 \n",
            "Admin at Till                               Task & Process    318   318   \n",
            "Assist Customer in Store                    Customer          115   115   \n",
            "Break                                       NVA               137   137   \n",
            "COSHH - deal with spillage                  Task & Process      2     2   \n",
            "Customer Count                              NVA              1067  1067   \n",
            "Deal with Store Visit RM / AM etc           Task & Process      1     1   \n",
            "Facing Up - away from till area             Task & Process     32    32   \n",
            "Get Product for Customer                    Customer           44    44   \n",
            "Not Working                                 NVA                11    11   \n",
            "Personal Needs                              NVA                14    14   \n",
            "Product Carry & Collect from car            Customer           13    13   \n",
            "Replenish Brochures/Catalogues              Task & Process      2     2   \n",
            "Return Product to Sale                      Task & Process     84    84   \n",
            "Returns/ Exchanges/ Repairs at Till         Customer           33    33   \n",
            "Rug Doctor Rental                           Customer            5     5   \n",
            "Sell to Customer from Display               Customer            2     2   \n",
            "Serve Customer at Collections/Click&Collect Customer          175   175   \n",
            "Serve Customer at Till                      Customer         1234  1234   \n",
            "Serve Customer with DPD parcel              Customer            9     9   \n",
            "System Delay                                NVA                 2     2   \n",
            "Talk Not Work                               NVA                16    16   \n",
            "Talk Work NOTE who and topic                Task & Process     41    41   \n",
            "Team Briefing 121                           Task & Process      6     6   \n",
            "Telephone                                   Task & Process     18    18   \n",
            "Tidy till area                              Task & Process     51    51   \n",
            "Training                                    Task & Process      4     4   \n",
            "Wait No Customer                            NVA               264   264   \n",
            "\n",
            "                                                            El Code  Rating  \\\n",
            "Elements                                    Main Category                     \n",
            "Admin at Till                               Task & Process      318     318   \n",
            "Assist Customer in Store                    Customer            115     115   \n",
            "Break                                       NVA                 137     137   \n",
            "COSHH - deal with spillage                  Task & Process        2       2   \n",
            "Customer Count                              NVA                1067    1067   \n",
            "Deal with Store Visit RM / AM etc           Task & Process        1       1   \n",
            "Facing Up - away from till area             Task & Process       32      32   \n",
            "Get Product for Customer                    Customer             44      44   \n",
            "Not Working                                 NVA                  11      11   \n",
            "Personal Needs                              NVA                  14      14   \n",
            "Product Carry & Collect from car            Customer             13      13   \n",
            "Replenish Brochures/Catalogues              Task & Process        2       2   \n",
            "Return Product to Sale                      Task & Process       84      84   \n",
            "Returns/ Exchanges/ Repairs at Till         Customer             33      33   \n",
            "Rug Doctor Rental                           Customer              5       5   \n",
            "Sell to Customer from Display               Customer              2       2   \n",
            "Serve Customer at Collections/Click&Collect Customer            175     175   \n",
            "Serve Customer at Till                      Customer           1234    1234   \n",
            "Serve Customer with DPD parcel              Customer              9       9   \n",
            "System Delay                                NVA                   2       2   \n",
            "Talk Not Work                               NVA                  16      16   \n",
            "Talk Work NOTE who and topic                Task & Process       41      41   \n",
            "Team Briefing 121                           Task & Process        6       6   \n",
            "Telephone                                   Task & Process       18      18   \n",
            "Tidy till area                              Task & Process       51      51   \n",
            "Training                                    Task & Process        4       4   \n",
            "Wait No Customer                            NVA                 264     264   \n",
            "\n",
            "                                                             BMS   Qty  Area  \\\n",
            "Elements                                    Main Category                      \n",
            "Admin at Till                               Task & Process   318   318   318   \n",
            "Assist Customer in Store                    Customer         115   115   115   \n",
            "Break                                       NVA              137   137   137   \n",
            "COSHH - deal with spillage                  Task & Process     2     2     2   \n",
            "Customer Count                              NVA             1067  1067  1067   \n",
            "Deal with Store Visit RM / AM etc           Task & Process     1     1     1   \n",
            "Facing Up - away from till area             Task & Process    32    32    32   \n",
            "Get Product for Customer                    Customer          44    44    44   \n",
            "Not Working                                 NVA               11    11    11   \n",
            "Personal Needs                              NVA               14    14    14   \n",
            "Product Carry & Collect from car            Customer          13    13    13   \n",
            "Replenish Brochures/Catalogues              Task & Process     2     2     2   \n",
            "Return Product to Sale                      Task & Process    84    84    84   \n",
            "Returns/ Exchanges/ Repairs at Till         Customer          33    33    33   \n",
            "Rug Doctor Rental                           Customer           5     5     5   \n",
            "Sell to Customer from Display               Customer           2     2     2   \n",
            "Serve Customer at Collections/Click&Collect Customer         175   175   175   \n",
            "Serve Customer at Till                      Customer        1234  1234  1234   \n",
            "Serve Customer with DPD parcel              Customer           9     9     9   \n",
            "System Delay                                NVA                2     2     2   \n",
            "Talk Not Work                               NVA               16    16    16   \n",
            "Talk Work NOTE who and topic                Task & Process    41    41    41   \n",
            "Team Briefing 121                           Task & Process     6     6     6   \n",
            "Telephone                                   Task & Process    18    18    18   \n",
            "Tidy till area                              Task & Process    51    51    51   \n",
            "Training                                    Task & Process     4     4     4   \n",
            "Wait No Customer                            NVA              264   264   264   \n",
            "\n",
            "                                                            Category  Notes  \\\n",
            "Elements                                    Main Category                     \n",
            "Admin at Till                               Task & Process         0     92   \n",
            "Assist Customer in Store                    Customer               0     24   \n",
            "Break                                       NVA                    0      6   \n",
            "COSHH - deal with spillage                  Task & Process         0      0   \n",
            "Customer Count                              NVA                 1067      4   \n",
            "Deal with Store Visit RM / AM etc           Task & Process         0      0   \n",
            "Facing Up - away from till area             Task & Process         0      3   \n",
            "Get Product for Customer                    Customer               0     11   \n",
            "Not Working                                 NVA                    0      0   \n",
            "Personal Needs                              NVA                    0      2   \n",
            "Product Carry & Collect from car            Customer               0      0   \n",
            "Replenish Brochures/Catalogues              Task & Process         0      2   \n",
            "Return Product to Sale                      Task & Process         0     13   \n",
            "Returns/ Exchanges/ Repairs at Till         Customer               0      1   \n",
            "Rug Doctor Rental                           Customer               0      1   \n",
            "Sell to Customer from Display               Customer               0      0   \n",
            "Serve Customer at Collections/Click&Collect Customer               0      5   \n",
            "Serve Customer at Till                      Customer               0     67   \n",
            "Serve Customer with DPD parcel              Customer               0      1   \n",
            "System Delay                                NVA                    0      0   \n",
            "Talk Not Work                               NVA                    0      1   \n",
            "Talk Work NOTE who and topic                Task & Process         0      6   \n",
            "Team Briefing 121                           Task & Process         0      4   \n",
            "Telephone                                   Task & Process         0      3   \n",
            "Tidy till area                              Task & Process         0     16   \n",
            "Training                                    Task & Process         0      0   \n",
            "Wait No Customer                            NVA                    0     12   \n",
            "\n",
            "                                                            Unnamed: 16  \n",
            "Elements                                    Main Category                \n",
            "Admin at Till                               Task & Process          309  \n",
            "Assist Customer in Store                    Customer                115  \n",
            "Break                                       NVA                     137  \n",
            "COSHH - deal with spillage                  Task & Process            2  \n",
            "Customer Count                              NVA                    1064  \n",
            "Deal with Store Visit RM / AM etc           Task & Process            1  \n",
            "Facing Up - away from till area             Task & Process           32  \n",
            "Get Product for Customer                    Customer                 44  \n",
            "Not Working                                 NVA                      11  \n",
            "Personal Needs                              NVA                      14  \n",
            "Product Carry & Collect from car            Customer                 13  \n",
            "Replenish Brochures/Catalogues              Task & Process            2  \n",
            "Return Product to Sale                      Task & Process           82  \n",
            "Returns/ Exchanges/ Repairs at Till         Customer                 33  \n",
            "Rug Doctor Rental                           Customer                  5  \n",
            "Sell to Customer from Display               Customer                  2  \n",
            "Serve Customer at Collections/Click&Collect Customer                174  \n",
            "Serve Customer at Till                      Customer               1230  \n",
            "Serve Customer with DPD parcel              Customer                  9  \n",
            "System Delay                                NVA                       2  \n",
            "Talk Not Work                               NVA                      16  \n",
            "Talk Work NOTE who and topic                Task & Process           41  \n",
            "Team Briefing 121                           Task & Process            6  \n",
            "Telephone                                   Task & Process           18  \n",
            "Tidy till area                              Task & Process           50  \n",
            "Training                                    Task & Process            4  \n",
            "Wait No Customer                            NVA                     264  \n"
          ]
        }
      ]
    }
  ]
}